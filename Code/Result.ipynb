{
 "cells": [
  {
   "cell_type": "markdown",
   "metadata": {},
   "source": [
    "# We do the same transformation to the TESTPARTIAL data and apply our prediction model to get the result."
   ]
  },
  {
   "cell_type": "markdown",
   "metadata": {},
   "source": [
    "## FORCLOSED"
   ]
  },
  {
   "cell_type": "code",
   "execution_count": 1,
   "metadata": {},
   "outputs": [],
   "source": [
    "import pandas as pd\n",
    "import numpy as np\n",
    "\n",
    "df=pd.read_csv(\"TRAIN.csv\")\n",
    "N=df.shape[0]\n",
    "df[\"NMONTHS\"]\n",
    "df1=pd.read_csv(\"TESTPARTIAL.csv\")\n",
    "df1[\"NMONTHS\"]=np.nan\n",
    "df1[\"FORCLOSED\"]=np.nan\n",
    "df=pd.concat([df,df1],ignore_index=True)\n",
    "M=df.shape[0]\n",
    "Itrain=list(range(N))\n",
    "Test=list(range(N,M))\n",
    "\n"
   ]
  },
  {
   "cell_type": "code",
   "execution_count": 2,
   "metadata": {},
   "outputs": [],
   "source": [
    "df[\"OCLTV\"].fillna(1,inplace=True)\n",
    "df[\"GAP\"]=df[\"OLTV\"]-df[\"OCLTV\"]\n",
    "df[\"GAP\"]=df[\"GAP\"].apply(lambda x: x>0)\n",
    "df[\"OLTV\"].fillna(0, inplace=True)\n",
    "df[\"NUMBO\"].fillna(0,inplace=True)\n",
    "df[\"DTI\"].fillna(0,inplace=True)\n",
    "df[\"CSCOREB\"].fillna(0,inplace=True)\n",
    "def RelativeMonth(x):\n",
    "    month=int(x/10000)\n",
    "    year=int(x-10000*month)\n",
    "    return((year-2000)*12+month)\n",
    "\n",
    "df[\"DATE1\"]=df[\"ORIGDATE\"].apply(RelativeMonth)\n",
    "df[\"DATE2\"]=df[\"FSTPAY\"].apply(RelativeMonth)\n",
    "df[\"DATE3\"]=df[\"MATDT\"].apply(RelativeMonth)\n",
    "df[\"TIMGAP1\"]=df[\"DATE2\"]-df[\"DATE1\"]\n",
    "df[\"TIMGAP2\"]=df[\"DATE3\"]-df[\"DATE2\"]\n",
    "PreVar=['ORIGRATE', 'ORIGUPB', 'ORIGTERM','OLTV','LOANAGE','NUMBO','DTI','NO_UNITS','DLQSTATUS','ACTPER_MO','TIMGAP1']\n",
    "CatVar=['SELLER','CHNL', 'FIRSTFLAG', 'PURPOSE', 'PROP', 'NO_UNITS','OCCSTAT', 'STATE',  \n",
    "          'RELMORTGIND', 'GAP']\n",
    "Set=df.loc[:,PreVar].values"
   ]
  },
  {
   "cell_type": "code",
   "execution_count": 3,
   "metadata": {},
   "outputs": [
    {
     "data": {
      "text/html": [
       "<div>\n",
       "<style scoped>\n",
       "    .dataframe tbody tr th:only-of-type {\n",
       "        vertical-align: middle;\n",
       "    }\n",
       "\n",
       "    .dataframe tbody tr th {\n",
       "        vertical-align: top;\n",
       "    }\n",
       "\n",
       "    .dataframe thead th {\n",
       "        text-align: right;\n",
       "    }\n",
       "</style>\n",
       "<table border=\"1\" class=\"dataframe\">\n",
       "  <thead>\n",
       "    <tr style=\"text-align: right;\">\n",
       "      <th></th>\n",
       "      <th>x0</th>\n",
       "      <th>x1</th>\n",
       "      <th>x2</th>\n",
       "      <th>y</th>\n",
       "    </tr>\n",
       "  </thead>\n",
       "  <tbody>\n",
       "    <tr>\n",
       "      <th>0</th>\n",
       "      <td>-57457.732077</td>\n",
       "      <td>-44.313637</td>\n",
       "      <td>-2.534062</td>\n",
       "      <td>NaN</td>\n",
       "    </tr>\n",
       "    <tr>\n",
       "      <th>1</th>\n",
       "      <td>20542.266261</td>\n",
       "      <td>-26.732748</td>\n",
       "      <td>-12.209102</td>\n",
       "      <td>NaN</td>\n",
       "    </tr>\n",
       "    <tr>\n",
       "      <th>2</th>\n",
       "      <td>-17457.732326</td>\n",
       "      <td>-35.995927</td>\n",
       "      <td>-17.005689</td>\n",
       "      <td>NaN</td>\n",
       "    </tr>\n",
       "    <tr>\n",
       "      <th>3</th>\n",
       "      <td>-2457.732547</td>\n",
       "      <td>-32.644814</td>\n",
       "      <td>-19.652261</td>\n",
       "      <td>NaN</td>\n",
       "    </tr>\n",
       "    <tr>\n",
       "      <th>4</th>\n",
       "      <td>92542.263858</td>\n",
       "      <td>-8.733219</td>\n",
       "      <td>-0.438913</td>\n",
       "      <td>NaN</td>\n",
       "    </tr>\n",
       "    <tr>\n",
       "      <th>...</th>\n",
       "      <td>...</td>\n",
       "      <td>...</td>\n",
       "      <td>...</td>\n",
       "      <td>...</td>\n",
       "    </tr>\n",
       "    <tr>\n",
       "      <th>71192</th>\n",
       "      <td>-70457.761772</td>\n",
       "      <td>74.741283</td>\n",
       "      <td>20.403598</td>\n",
       "      <td>NaN</td>\n",
       "    </tr>\n",
       "    <tr>\n",
       "      <th>71193</th>\n",
       "      <td>118542.262706</td>\n",
       "      <td>-2.271994</td>\n",
       "      <td>4.935981</td>\n",
       "      <td>NaN</td>\n",
       "    </tr>\n",
       "    <tr>\n",
       "      <th>71194</th>\n",
       "      <td>-71457.788830</td>\n",
       "      <td>193.086358</td>\n",
       "      <td>-4.327153</td>\n",
       "      <td>NaN</td>\n",
       "    </tr>\n",
       "    <tr>\n",
       "      <th>71195</th>\n",
       "      <td>-2457.733779</td>\n",
       "      <td>-31.128039</td>\n",
       "      <td>0.589359</td>\n",
       "      <td>NaN</td>\n",
       "    </tr>\n",
       "    <tr>\n",
       "      <th>71196</th>\n",
       "      <td>-59457.731100</td>\n",
       "      <td>-46.017856</td>\n",
       "      <td>-18.604966</td>\n",
       "      <td>NaN</td>\n",
       "    </tr>\n",
       "  </tbody>\n",
       "</table>\n",
       "<p>71197 rows × 4 columns</p>\n",
       "</div>"
      ],
      "text/plain": [
       "                  x0          x1         x2   y\n",
       "0      -57457.732077  -44.313637  -2.534062 NaN\n",
       "1       20542.266261  -26.732748 -12.209102 NaN\n",
       "2      -17457.732326  -35.995927 -17.005689 NaN\n",
       "3       -2457.732547  -32.644814 -19.652261 NaN\n",
       "4       92542.263858   -8.733219  -0.438913 NaN\n",
       "...              ...         ...        ...  ..\n",
       "71192  -70457.761772   74.741283  20.403598 NaN\n",
       "71193  118542.262706   -2.271994   4.935981 NaN\n",
       "71194  -71457.788830  193.086358  -4.327153 NaN\n",
       "71195   -2457.733779  -31.128039   0.589359 NaN\n",
       "71196  -59457.731100  -46.017856 -18.604966 NaN\n",
       "\n",
       "[71197 rows x 4 columns]"
      ]
     },
     "execution_count": 3,
     "metadata": {},
     "output_type": "execute_result"
    }
   ],
   "source": [
    "from sklearn.decomposition import PCA\n",
    "def transDim(tSet,dim):\n",
    "    pca=PCA(n_components=dim)\n",
    "    pca.fit(tSet)\n",
    "    return pca.transform(tSet)\n",
    "# Set=transDim(Set,'mle')\n",
    "dim=3\n",
    "Set=transDim(Set,dim) #decrease the dimension to 3\n",
    "data=pd.DataFrame(Set[Itrain])\n",
    "nameList=[('x'+str(i)) for i in range(dim)]\n",
    "data.columns=nameList\n",
    "data['y']=df.loc[Itrain,'FORCLOSED'].apply(lambda x: int(x))\n",
    "\n",
    "testData=pd.DataFrame(Set[Test])\n",
    "nameList=[('x'+str(i)) for i in range(dim)]\n",
    "testData.columns=nameList\n",
    "testData['y']=df.loc[Test,'FORCLOSED']\n",
    "\n",
    "testData"
   ]
  },
  {
   "cell_type": "code",
   "execution_count": 4,
   "metadata": {},
   "outputs": [],
   "source": [
    "from sklearn.linear_model import LogisticRegression\n",
    "import patsy as ps\n",
    "from sklearn.metrics import confusion_matrix\n",
    "\n",
    "def Logit(formula,dftrain,dftest,threshold=0.5):\n",
    "    Ytrain,Xtrain=ps.dmatrices(formula,dftrain)\n",
    "    Ytest,Xtest=ps.dmatrices(formula,dftest)\n",
    "    Ytrain=np.reshape(Ytrain, (Ytrain.shape[0],)) # logistic regression wants shape as (N,) rather than (N,1)\n",
    "    Ytest=np.reshape(Ytest,(Ytest.shape[0],))\n",
    "    clf = LogisticRegression().fit(Xtrain,Ytrain)\n",
    "    Ypred_prob=clf.predict_proba(Xtest)\n",
    "    Ypred=pd.Series(Ypred_prob[:,0]<threshold)\n",
    "    Ytest=pd.Series(Ytest)\n",
    "\n",
    "    TN=sum((Ytest==0)&(Ypred==0))\n",
    "    FP=sum((Ytest==0)&(Ypred==1))\n",
    "    TP=sum((Ytest==1)&(Ypred==1))\n",
    "    FN=sum((Ytest==1)&(Ypred==0))\n",
    "\n",
    "    FPR = FP/(FP+TN)\n",
    "    TPR = TP/(TP+FN)\n",
    "    return FPR,TPR"
   ]
  },
  {
   "cell_type": "code",
   "execution_count": 5,
   "metadata": {},
   "outputs": [
    {
     "name": "stdout",
     "output_type": "stream",
     "text": [
      "(133334, 4) (66666, 4)\n",
      "Index(['x0', 'x1', 'x2', 'y'], dtype='object')\n"
     ]
    }
   ],
   "source": [
    "N=data.shape[0]\n",
    "I=np.random.permutation(range(N))\n",
    "Itest2=I[0:int(N/3)]\n",
    "Itrain2=I[int(N/3):N]\n",
    "dftrain=data.iloc[Itrain2]\n",
    "dftest=data.iloc[Itest2]\n",
    "print(dftrain.shape,dftest.shape)\n",
    "print(dftrain.columns)"
   ]
  },
  {
   "cell_type": "code",
   "execution_count": 6,
   "metadata": {},
   "outputs": [],
   "source": [
    "from sklearn.linear_model import LogisticRegression\n",
    "import patsy as ps\n",
    "from sklearn.metrics import confusion_matrix\n",
    "\n",
    "\n",
    "formula=\"y~\"+\"+\".join(nameList)\n",
    "\n",
    "threshold=np.linspace(0.001,0.999,999)\n",
    "bestThreshold=0\n",
    "FPR0=0\n",
    "TPR0=0\n",
    "for i in threshold:\n",
    "    FPR,TPR=Logit(formula,dftrain,dftest,i)\n",
    "    if np.abs(FPR-0.5)<np.abs(FPR0-0.5):\n",
    "        FPR0=FPR\n",
    "        TPR0=TPR\n",
    "        bestThreshold=i     "
   ]
  },
  {
   "cell_type": "code",
   "execution_count": 7,
   "metadata": {},
   "outputs": [],
   "source": [
    "testData[\"y\"]=0"
   ]
  },
  {
   "cell_type": "code",
   "execution_count": 8,
   "metadata": {},
   "outputs": [],
   "source": [
    "from sklearn import metrics\n",
    "\n",
    "threshold=bestThreshold\n",
    "formula=\"y~\"+\"+\".join(nameList)\n",
    "Ytrain,Xtrain=ps.dmatrices(formula,data)\n",
    "Ytest,Xtest=ps.dmatrices(formula,testData)\n",
    "Ytrain=np.reshape(Ytrain, (Ytrain.shape[0],)) \n",
    "clf = LogisticRegression().fit(Xtrain,Ytrain)\n",
    "Ypred_prob=clf.predict_proba(Xtest)\n",
    "Ypred=pd.Series(Ypred_prob[:,0]<threshold)"
   ]
  },
  {
   "cell_type": "code",
   "execution_count": 10,
   "metadata": {},
   "outputs": [
    {
     "data": {
      "text/plain": [
       "0         True\n",
       "1         True\n",
       "2         True\n",
       "3         True\n",
       "4        False\n",
       "         ...  \n",
       "71192    False\n",
       "71193    False\n",
       "71194     True\n",
       "71195     True\n",
       "71196     True\n",
       "Length: 71197, dtype: bool"
      ]
     },
     "execution_count": 10,
     "metadata": {},
     "output_type": "execute_result"
    }
   ],
   "source": [
    "Ypred"
   ]
  },
  {
   "cell_type": "code",
   "execution_count": 11,
   "metadata": {},
   "outputs": [],
   "source": [
    "df.loc[Test,\"FORCLOSURE\"]=Ypred.values\n",
    "result=[\"LID\",\"FORCLOSURE\"]\n",
    "df.loc[Test,result].to_csv('pred.csv',index=False) "
   ]
  },
  {
   "cell_type": "code",
   "execution_count": null,
   "metadata": {},
   "outputs": [],
   "source": [
    "# %matplotlib inline\n",
    "# import matplotlib.pyplot as plt\n",
    "\n",
    "# def factor\n",
    "# positive = df[df['FORCLOSED'] == True]\n",
    "# negative = df[df['FORCLOSED'] == False]\n",
    "# fig, ax = plt.subplots(figsize=(5, 5))\n",
    "# ax.scatter(positive['ORIGUPB'], positive['ORIGRATE'], s=30, c='b', marker='o', label='Admitted')\n",
    "# ax.scatter(negative['ORIGUPB'], negative['ORIGRATE'], s=30, c='r', marker='x', label='Not Admitted')\n",
    "# ax.legend()\n",
    "# ax.set_xlabel('ORIGUPB')\n",
    "# ax.set_ylabel('ORIGRATE')"
   ]
  }
 ],
 "metadata": {
  "kernelspec": {
   "display_name": "Python 3",
   "language": "python",
   "name": "python3"
  },
  "language_info": {
   "codemirror_mode": {
    "name": "ipython",
    "version": 3
   },
   "file_extension": ".py",
   "mimetype": "text/x-python",
   "name": "python",
   "nbconvert_exporter": "python",
   "pygments_lexer": "ipython3",
   "version": "3.8.3"
  }
 },
 "nbformat": 4,
 "nbformat_minor": 4
}
