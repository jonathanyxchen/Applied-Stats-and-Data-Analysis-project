{
 "cells": [
  {
   "cell_type": "markdown",
   "metadata": {},
   "source": [
    "# FORCLOSED"
   ]
  },
  {
   "cell_type": "code",
   "execution_count": 1,
   "metadata": {},
   "outputs": [
    {
     "name": "stdout",
     "output_type": "stream",
     "text": [
      "Index(['LID', 'CHNL', 'SELLER', 'ORIGRATE', 'ORIGUPB', 'ORIGTERM', 'LOANAGE',\n",
      "       'REMMNTHS', 'ADJRMTHS', 'OLTV', 'NUMBO', 'DTI', 'CSCOREB', 'FIRSTFLAG',\n",
      "       'PURPOSE', 'PROP', 'NO_UNITS', 'OCCSTAT', 'STATE', 'DLQSTATUS',\n",
      "       'RELMORTGIND', 'ACTPER_MO', 'GAP', 'TIMGAP1', 'TIMGAP2', 'NMONTHS',\n",
      "       'FORCLOSED'],\n",
      "      dtype='object')\n",
      "LID              int64\n",
      "CHNL            object\n",
      "SELLER          object\n",
      "ORIGRATE       float64\n",
      "ORIGUPB        float64\n",
      "ORIGTERM         int64\n",
      "LOANAGE          int64\n",
      "REMMNTHS         int64\n",
      "ADJRMTHS         int64\n",
      "OLTV           float64\n",
      "NUMBO          float64\n",
      "DTI            float64\n",
      "CSCOREB        float64\n",
      "FIRSTFLAG       object\n",
      "PURPOSE         object\n",
      "PROP            object\n",
      "NO_UNITS         int64\n",
      "OCCSTAT         object\n",
      "STATE           object\n",
      "DLQSTATUS        int64\n",
      "RELMORTGIND     object\n",
      "ACTPER_MO        int64\n",
      "GAP              int64\n",
      "TIMGAP1          int64\n",
      "TIMGAP2          int64\n",
      "NMONTHS          int64\n",
      "FORCLOSED         bool\n",
      "dtype: object\n"
     ]
    }
   ],
   "source": [
    "import pandas as pd\n",
    "df=pd.read_csv(\"TRAIN_ver04.csv\")\n",
    "\n",
    "print(df.columns)\n",
    "print(df.dtypes)"
   ]
  },
  {
   "cell_type": "markdown",
   "metadata": {},
   "source": [
    "## Step 1: Reduce the dimension."
   ]
  },
  {
   "cell_type": "markdown",
   "metadata": {},
   "source": [
    "## PCA"
   ]
  },
  {
   "cell_type": "code",
   "execution_count": 2,
   "metadata": {},
   "outputs": [
    {
     "data": {
      "text/plain": [
       "<matplotlib.axes._subplots.AxesSubplot at 0x25348cfcd30>"
      ]
     },
     "execution_count": 2,
     "metadata": {},
     "output_type": "execute_result"
    },
    {
     "data": {
      "image/png": "[encoded data removed]",
      "text/plain": [
       "<Figure size 432x288 with 2 Axes>"
      ]
     },
     "metadata": {
      "needs_background": "light"
     },
     "output_type": "display_data"
    }
   ],
   "source": [
    "from sklearn.decomposition import PCA\n",
    "import numpy as np\n",
    "import seaborn as sns\n",
    "\n",
    "PreVar=['ORIGRATE', 'ORIGUPB', 'ORIGTERM','OLTV','LOANAGE','NUMBO','DTI','REMMNTHS',\n",
    "        'ADJRMTHS','NO_UNITS','DLQSTATUS','ACTPER_MO','TIMGAP1','TIMGAP2']\n",
    "df_pre=df.loc[:,PreVar].values\n",
    "sns.heatmap(np.corrcoef(df_pre.T),linewidths= 0.3,cmap= \"RdBu_r\")"
   ]
  },
  {
   "cell_type": "code",
   "execution_count": 3,
   "metadata": {},
   "outputs": [
    {
     "data": {
      "text/plain": [
       "<matplotlib.axes._subplots.AxesSubplot at 0x25346c15af0>"
      ]
     },
     "execution_count": 3,
     "metadata": {},
     "output_type": "execute_result"
    },
    {
     "data": {
      "image/png": "[encoded data removed]",
      "text/plain": [
       "<Figure size 432x288 with 2 Axes>"
      ]
     },
     "metadata": {
      "needs_background": "light"
     },
     "output_type": "display_data"
    }
   ],
   "source": [
    "PreVar=['ORIGRATE', 'ORIGUPB', 'ORIGTERM','OLTV','LOANAGE','NUMBO','DTI','NO_UNITS','DLQSTATUS','ACTPER_MO','TIMGAP1']\n",
    "df_pre=df.loc[:,PreVar].values\n",
    "sns.heatmap(np.corrcoef(df_pre.T),linewidths= 0.3,cmap= \"RdBu_r\")"
   ]
  },
  {
   "cell_type": "code",
   "execution_count": 4,
   "metadata": {},
   "outputs": [],
   "source": [
    "CatVar=['SELLER','CHNL', 'FIRSTFLAG', 'PURPOSE', 'PROP', 'NO_UNITS','OCCSTAT', 'STATE',  \n",
    "          'RELMORTGIND', 'GAP']"
   ]
  },
  {
   "cell_type": "code",
   "execution_count": 5,
   "metadata": {},
   "outputs": [
    {
     "name": "stdout",
     "output_type": "stream",
     "text": [
      "SELLER\n",
      "Other                                        45827\n",
      "Jpmorgan Chase Bank, Na                      36062\n",
      "Bank Of America, N.A.                        22263\n",
      "Citimortgage, Inc.                           10002\n",
      "Jpmorgan Chase Bank, National Association     9649\n",
      "Suntrust Mortgage Inc.                        9176\n",
      "Bishops Gate Residential Mortgage Trust       7474\n",
      "Gmac Mortgage, Llc                            6583\n",
      "First Tennessee Bank National Association     6076\n",
      "Flagstar Bank, Fsb                            5802\n",
      "Wells Fargo Bank, N.A.                        5419\n",
      "Amtrust Bank                                  4742\n",
      "Netbank Funding Services                      4483\n",
      "Regions Bank                                  3567\n",
      "Jp Morgan Chase Bank, Na                      3369\n",
      "Usaa Federal Savings Bank                     2191\n",
      "Harwood Street Funding I, Llc                 1911\n",
      "Rbc Mortgage Company                          1738\n",
      "Pnc Bank, N.A.                                 701\n",
      "Washtenaw Mortgage Company                     496\n",
      "The Huntington National Bank                   471\n",
      "Old Kent Mortgage Company                      464\n",
      "Downey Savings And Loan Association, F.A.      276\n",
      "Name: SELLER, dtype: int64\n",
      "CHNL\n",
      "R    93739\n",
      "C    54654\n",
      "B    40349\n",
      "Name: CHNL, dtype: int64\n",
      "FIRSTFLAG\n",
      "N    154569\n",
      "Y     34173\n",
      "Name: FIRSTFLAG, dtype: int64\n",
      "PURPOSE\n",
      "P    136088\n",
      "C     28828\n",
      "R     23822\n",
      "U         4\n",
      "Name: PURPOSE, dtype: int64\n",
      "PROP\n",
      "SF    159810\n",
      "PU     13774\n",
      "CO     12779\n",
      "MH      1400\n",
      "CP       979\n",
      "Name: PROP, dtype: int64\n",
      "NO_UNITS\n",
      "1    183933\n",
      "2      3927\n",
      "3       502\n",
      "4       380\n",
      "Name: NO_UNITS, dtype: int64\n",
      "OCCSTAT\n",
      "P    173566\n",
      "I      8234\n",
      "S      6942\n",
      "Name: OCCSTAT, dtype: int64\n",
      "STATE\n",
      "CA    20118\n",
      "FL    15277\n",
      "TX    12443\n",
      "MI     9333\n",
      "IL     8674\n",
      "OH     7382\n",
      "GA     7078\n",
      "NY     6573\n",
      "PA     6516\n",
      "CO     5880\n",
      "WA     5447\n",
      "AZ     5323\n",
      "NJ     5258\n",
      "NC     4727\n",
      "MA     4511\n",
      "VA     4471\n",
      "IN     3933\n",
      "MN     3911\n",
      "MO     3892\n",
      "TN     3747\n",
      "WI     3650\n",
      "MD     3287\n",
      "OR     3106\n",
      "LA     2797\n",
      "AL     2516\n",
      "SC     2384\n",
      "UT     2294\n",
      "NV     2081\n",
      "CT     2050\n",
      "OK     1824\n",
      "KY     1712\n",
      "IA     1557\n",
      "AR     1477\n",
      "MS     1412\n",
      "KS     1398\n",
      "NE     1326\n",
      "NM     1082\n",
      "NH     1016\n",
      "ID      900\n",
      "PR      716\n",
      "RI      713\n",
      "DE      695\n",
      "HI      694\n",
      "ME      588\n",
      "MT      582\n",
      "WV      560\n",
      "SD      414\n",
      "WY      377\n",
      "DC      285\n",
      "VT      272\n",
      "AK      269\n",
      "ND      202\n",
      "VI       12\n",
      "Name: STATE, dtype: int64\n",
      "RELMORTGIND\n",
      "N    187593\n",
      "Y      1149\n",
      "Name: RELMORTGIND, dtype: int64\n",
      "GAP\n",
      "0    149285\n",
      "1     39457\n",
      "Name: GAP, dtype: int64\n"
     ]
    }
   ],
   "source": [
    "for i in CatVar:\n",
    "    print(i) \n",
    "    print(df[i].value_counts())"
   ]
  },
  {
   "cell_type": "code",
   "execution_count": 6,
   "metadata": {},
   "outputs": [
    {
     "data": {
      "text/plain": [
       "False    186606\n",
       "True       2136\n",
       "Name: FORCLOSED, dtype: int64"
      ]
     },
     "execution_count": 6,
     "metadata": {},
     "output_type": "execute_result"
    }
   ],
   "source": [
    "df[\"FORCLOSED\"].value_counts()"
   ]
  },
  {
   "cell_type": "code",
   "execution_count": 7,
   "metadata": {},
   "outputs": [
    {
     "data": {
      "text/html": [
       "<div>\n",
       "<style scoped>\n",
       "    .dataframe tbody tr th:only-of-type {\n",
       "        vertical-align: middle;\n",
       "    }\n",
       "\n",
       "    .dataframe tbody tr th {\n",
       "        vertical-align: top;\n",
       "    }\n",
       "\n",
       "    .dataframe thead th {\n",
       "        text-align: right;\n",
       "    }\n",
       "</style>\n",
       "<table border=\"1\" class=\"dataframe\">\n",
       "  <thead>\n",
       "    <tr style=\"text-align: right;\">\n",
       "      <th></th>\n",
       "      <th>FORCLOSED</th>\n",
       "    </tr>\n",
       "    <tr>\n",
       "      <th>SELLER</th>\n",
       "      <th></th>\n",
       "    </tr>\n",
       "  </thead>\n",
       "  <tbody>\n",
       "    <tr>\n",
       "      <th>Amtrust Bank</th>\n",
       "      <td>0.008435</td>\n",
       "    </tr>\n",
       "    <tr>\n",
       "      <th>Bank Of America, N.A.</th>\n",
       "      <td>0.011679</td>\n",
       "    </tr>\n",
       "    <tr>\n",
       "      <th>Bishops Gate Residential Mortgage Trust</th>\n",
       "      <td>0.013380</td>\n",
       "    </tr>\n",
       "    <tr>\n",
       "      <th>Citimortgage, Inc.</th>\n",
       "      <td>0.012997</td>\n",
       "    </tr>\n",
       "    <tr>\n",
       "      <th>Downey Savings And Loan Association, F.A.</th>\n",
       "      <td>0.007246</td>\n",
       "    </tr>\n",
       "    <tr>\n",
       "      <th>First Tennessee Bank National Association</th>\n",
       "      <td>0.008394</td>\n",
       "    </tr>\n",
       "    <tr>\n",
       "      <th>Flagstar Bank, Fsb</th>\n",
       "      <td>0.014305</td>\n",
       "    </tr>\n",
       "    <tr>\n",
       "      <th>Gmac Mortgage, Llc</th>\n",
       "      <td>0.017014</td>\n",
       "    </tr>\n",
       "    <tr>\n",
       "      <th>Harwood Street Funding I, Llc</th>\n",
       "      <td>0.012559</td>\n",
       "    </tr>\n",
       "    <tr>\n",
       "      <th>Jp Morgan Chase Bank, Na</th>\n",
       "      <td>0.014248</td>\n",
       "    </tr>\n",
       "    <tr>\n",
       "      <th>Jpmorgan Chase Bank, Na</th>\n",
       "      <td>0.010371</td>\n",
       "    </tr>\n",
       "    <tr>\n",
       "      <th>Jpmorgan Chase Bank, National Association</th>\n",
       "      <td>0.010571</td>\n",
       "    </tr>\n",
       "    <tr>\n",
       "      <th>Netbank Funding Services</th>\n",
       "      <td>0.012046</td>\n",
       "    </tr>\n",
       "    <tr>\n",
       "      <th>Old Kent Mortgage Company</th>\n",
       "      <td>0.004310</td>\n",
       "    </tr>\n",
       "    <tr>\n",
       "      <th>Other</th>\n",
       "      <td>0.011762</td>\n",
       "    </tr>\n",
       "    <tr>\n",
       "      <th>Pnc Bank, N.A.</th>\n",
       "      <td>0.008559</td>\n",
       "    </tr>\n",
       "    <tr>\n",
       "      <th>Rbc Mortgage Company</th>\n",
       "      <td>0.006329</td>\n",
       "    </tr>\n",
       "    <tr>\n",
       "      <th>Regions Bank</th>\n",
       "      <td>0.012055</td>\n",
       "    </tr>\n",
       "    <tr>\n",
       "      <th>Suntrust Mortgage Inc.</th>\n",
       "      <td>0.008282</td>\n",
       "    </tr>\n",
       "    <tr>\n",
       "      <th>The Huntington National Bank</th>\n",
       "      <td>0.010616</td>\n",
       "    </tr>\n",
       "    <tr>\n",
       "      <th>Usaa Federal Savings Bank</th>\n",
       "      <td>0.005477</td>\n",
       "    </tr>\n",
       "    <tr>\n",
       "      <th>Washtenaw Mortgage Company</th>\n",
       "      <td>0.022177</td>\n",
       "    </tr>\n",
       "    <tr>\n",
       "      <th>Wells Fargo Bank, N.A.</th>\n",
       "      <td>0.009411</td>\n",
       "    </tr>\n",
       "  </tbody>\n",
       "</table>\n",
       "</div>"
      ],
      "text/plain": [
       "                                           FORCLOSED\n",
       "SELLER                                              \n",
       "Amtrust Bank                                0.008435\n",
       "Bank Of America, N.A.                       0.011679\n",
       "Bishops Gate Residential Mortgage Trust     0.013380\n",
       "Citimortgage, Inc.                          0.012997\n",
       "Downey Savings And Loan Association, F.A.   0.007246\n",
       "First Tennessee Bank National Association   0.008394\n",
       "Flagstar Bank, Fsb                          0.014305\n",
       "Gmac Mortgage, Llc                          0.017014\n",
       "Harwood Street Funding I, Llc               0.012559\n",
       "Jp Morgan Chase Bank, Na                    0.014248\n",
       "Jpmorgan Chase Bank, Na                     0.010371\n",
       "Jpmorgan Chase Bank, National Association   0.010571\n",
       "Netbank Funding Services                    0.012046\n",
       "Old Kent Mortgage Company                   0.004310\n",
       "Other                                       0.011762\n",
       "Pnc Bank, N.A.                              0.008559\n",
       "Rbc Mortgage Company                        0.006329\n",
       "Regions Bank                                0.012055\n",
       "Suntrust Mortgage Inc.                      0.008282\n",
       "The Huntington National Bank                0.010616\n",
       "Usaa Federal Savings Bank                   0.005477\n",
       "Washtenaw Mortgage Company                  0.022177\n",
       "Wells Fargo Bank, N.A.                      0.009411"
      ]
     },
     "execution_count": 7,
     "metadata": {},
     "output_type": "execute_result"
    }
   ],
   "source": [
    "df_seller=df[[\"SELLER\",\"FORCLOSED\"]].groupby(\"SELLER\")\n",
    "df_seller.mean() "
   ]
  },
  {
   "cell_type": "code",
   "execution_count": 8,
   "metadata": {},
   "outputs": [],
   "source": [
    "for i in CatVar:\n",
    "    df[i]=df[i].apply(lambda x: str(x))\n",
    "    dummies=pd.get_dummies(df[i],drop_first=True)\n",
    "    PreVar+=list(dummies.columns)\n",
    "    df=pd.concat([df,dummies],axis=1)\n",
    "\n",
    "Set=df.loc[:,PreVar].values\n",
    "Labeles=df.loc[:,'FORCLOSED'].values\n",
    "N=df.shape[0]\n",
    "\n",
    "def transDim(tSet,dim):\n",
    "    pca=PCA(n_components=dim)\n",
    "    pca.fit(tSet)\n",
    "    return pca.transform(tSet)"
   ]
  },
  {
   "cell_type": "code",
   "execution_count": 9,
   "metadata": {},
   "outputs": [
    {
     "name": "stdout",
     "output_type": "stream",
     "text": [
      "[0.99999854 0.99999988 0.99999996 1.         1.         1.\n",
      " 1.         1.         1.         1.         1.         1.\n",
      " 1.         1.         1.         1.         1.         1.\n",
      " 1.         1.         1.         1.         1.         1.\n",
      " 1.         1.         1.         1.         1.         1.\n",
      " 1.         1.         1.         1.         1.         1.\n",
      " 1.         1.         1.         1.         1.         1.\n",
      " 1.         1.         1.         1.         1.         1.\n",
      " 1.         1.         1.         1.         1.         1.\n",
      " 1.         1.         1.         1.         1.         1.\n",
      " 1.         1.         1.         1.         1.         1.\n",
      " 1.         1.         1.         1.         1.         1.\n",
      " 1.         1.         1.         1.         1.         1.\n",
      " 1.         1.         1.         1.         1.         1.\n",
      " 1.         1.         1.         1.         1.         1.\n",
      " 1.         1.         1.         1.         1.         1.\n",
      " 1.         1.         1.         1.         1.         1.\n",
      " 1.         1.         1.         1.         1.         1.        ]\n"
     ]
    }
   ],
   "source": [
    "Set=df.loc[:,PreVar].values\n",
    "pca=PCA()\n",
    "pca.fit(Set)\n",
    "# print(pca.components_)  \n",
    "print(np.cumsum(pca.explained_variance_ratio_ ,axis=0))"
   ]
  },
  {
   "cell_type": "markdown",
   "metadata": {},
   "source": [
    "## Step 2: Try several methods from the lectures."
   ]
  },
  {
   "cell_type": "markdown",
   "metadata": {},
   "source": [
    "## Logistic Regression"
   ]
  },
  {
   "cell_type": "code",
   "execution_count": 10,
   "metadata": {},
   "outputs": [
    {
     "name": "stdout",
     "output_type": "stream",
     "text": [
      "102\n"
     ]
    },
    {
     "data": {
      "text/html": [
       "<div>\n",
       "<style scoped>\n",
       "    .dataframe tbody tr th:only-of-type {\n",
       "        vertical-align: middle;\n",
       "    }\n",
       "\n",
       "    .dataframe tbody tr th {\n",
       "        vertical-align: top;\n",
       "    }\n",
       "\n",
       "    .dataframe thead th {\n",
       "        text-align: right;\n",
       "    }\n",
       "</style>\n",
       "<table border=\"1\" class=\"dataframe\">\n",
       "  <thead>\n",
       "    <tr style=\"text-align: right;\">\n",
       "      <th></th>\n",
       "      <th>x0</th>\n",
       "      <th>x1</th>\n",
       "      <th>x2</th>\n",
       "      <th>y</th>\n",
       "    </tr>\n",
       "  </thead>\n",
       "  <tbody>\n",
       "    <tr>\n",
       "      <th>0</th>\n",
       "      <td>-21335.515333</td>\n",
       "      <td>-33.400628</td>\n",
       "      <td>29.334866</td>\n",
       "      <td>0</td>\n",
       "    </tr>\n",
       "    <tr>\n",
       "      <th>1</th>\n",
       "      <td>-21335.556458</td>\n",
       "      <td>143.608658</td>\n",
       "      <td>-15.461069</td>\n",
       "      <td>0</td>\n",
       "    </tr>\n",
       "    <tr>\n",
       "      <th>2</th>\n",
       "      <td>104664.439910</td>\n",
       "      <td>174.102870</td>\n",
       "      <td>-11.831146</td>\n",
       "      <td>0</td>\n",
       "    </tr>\n",
       "    <tr>\n",
       "      <th>3</th>\n",
       "      <td>21664.485097</td>\n",
       "      <td>-25.151173</td>\n",
       "      <td>3.266569</td>\n",
       "      <td>0</td>\n",
       "    </tr>\n",
       "    <tr>\n",
       "      <th>4</th>\n",
       "      <td>-75335.512127</td>\n",
       "      <td>-48.754496</td>\n",
       "      <td>-1.560199</td>\n",
       "      <td>0</td>\n",
       "    </tr>\n",
       "  </tbody>\n",
       "</table>\n",
       "</div>"
      ],
      "text/plain": [
       "              x0          x1         x2  y\n",
       "0  -21335.515333  -33.400628  29.334866  0\n",
       "1  -21335.556458  143.608658 -15.461069  0\n",
       "2  104664.439910  174.102870 -11.831146  0\n",
       "3   21664.485097  -25.151173   3.266569  0\n",
       "4  -75335.512127  -48.754496  -1.560199  0"
      ]
     },
     "execution_count": 10,
     "metadata": {},
     "output_type": "execute_result"
    }
   ],
   "source": [
    "PreVar=['ORIGRATE', 'ORIGUPB', 'ORIGTERM','OLTV','LOANAGE','NUMBO','DTI','NO_UNITS','DLQSTATUS','ACTPER_MO','TIMGAP1']\n",
    "CatVar=['SELLER','CHNL', 'FIRSTFLAG', 'PURPOSE', 'PROP', 'NO_UNITS','OCCSTAT', 'STATE',  \n",
    "          'RELMORTGIND', 'GAP']\n",
    "for i in CatVar:\n",
    "    df[i]=df[i].apply(lambda x: str(x))\n",
    "    dummies=pd.get_dummies(df[i],drop_first=True)\n",
    "    PreVar+=list(dummies.columns)\n",
    "    df=pd.concat([df,dummies],axis=1)\n",
    "print(len(PreVar))\n",
    "\n",
    "Set=df.loc[:,PreVar].values\n",
    "# Set=transDim(Set,'mle')\n",
    "dim=3\n",
    "Set=transDim(Set,dim) #decrease the dimension to 10\n",
    "data=pd.DataFrame(Set)\n",
    "nameList=[('x'+str(i)) for i in range(dim)]\n",
    "data.columns=nameList\n",
    "data['y']=df.loc[:,'FORCLOSED'].apply(lambda x: int(x))\n",
    "data.head()"
   ]
  },
  {
   "cell_type": "code",
   "execution_count": 11,
   "metadata": {},
   "outputs": [],
   "source": [
    "from sklearn.linear_model import LogisticRegression\n",
    "import patsy as ps\n",
    "from sklearn.metrics import confusion_matrix\n",
    "\n",
    "def Logit(formula,dftrain,dftest,threshold=0.5):\n",
    "    Ytrain,Xtrain=ps.dmatrices(formula,dftrain)\n",
    "    Ytest,Xtest=ps.dmatrices(formula,dftest)\n",
    "    Ytrain=np.reshape(Ytrain, (Ytrain.shape[0],)) # logistic regression wants shape as (N,) rather than (N,1)\n",
    "    Ytest=np.reshape(Ytest,(Ytest.shape[0],))\n",
    "    clf = LogisticRegression().fit(Xtrain,Ytrain)\n",
    "    Ypred_prob=clf.predict_proba(Xtest)\n",
    "    Ypred=pd.Series(Ypred_prob[:,0]<threshold)\n",
    "    Ytest=pd.Series(Ytest)\n",
    "\n",
    "    TN=sum((Ytest==0)&(Ypred==0))\n",
    "    FP=sum((Ytest==0)&(Ypred==1))\n",
    "    TP=sum((Ytest==1)&(Ypred==1))\n",
    "    FN=sum((Ytest==1)&(Ypred==0))\n",
    "\n",
    "    FPR = FP/(FP+TN)\n",
    "    TPR = TP/(TP+FN)\n",
    "    return FPR,TPR"
   ]
  },
  {
   "cell_type": "code",
   "execution_count": 12,
   "metadata": {},
   "outputs": [
    {
     "name": "stdout",
     "output_type": "stream",
     "text": [
      "(125828, 4) (62914, 4)\n",
      "Index(['x0', 'x1', 'x2', 'y'], dtype='object')\n"
     ]
    }
   ],
   "source": [
    "N=data.shape[0]\n",
    "I=np.random.permutation(range(N))\n",
    "Itest=I[0:int(N/3)]\n",
    "Itrain=I[int(N/3):N]\n",
    "dftrain=data.iloc[Itrain]\n",
    "dftest=data.iloc[Itest]\n",
    "print(dftrain.shape,dftest.shape)\n",
    "print(dftrain.columns)"
   ]
  },
  {
   "cell_type": "code",
   "execution_count": 13,
   "metadata": {},
   "outputs": [],
   "source": [
    "formula=\"y~\"+\"+\".join(nameList)\n",
    "\n",
    "threshold=np.linspace(0.01,0.99,99)\n",
    "bestThreshold=0\n",
    "FPR0=0\n",
    "TPR0=0\n",
    "for i in threshold:\n",
    "    FPR,TPR=Logit(formula,dftrain,dftest,i)\n",
    "    if np.abs(FPR-0.5)<np.abs(FPR0-0.5):\n",
    "        FPR0=FPR\n",
    "        TPR0=TPR\n",
    "        bestThreshold=i     "
   ]
  },
  {
   "cell_type": "code",
   "execution_count": 14,
   "metadata": {},
   "outputs": [],
   "source": [
    "print(\"threshold = {:5.3f}\".format(bestThreshold))\n",
    "print(\"false positive rate = {:5.3f}\".format(FPR0))\n",
    "print(\"true positive rate = {:5.3f}\".format(TPR0))  "
   ]
  },
  {
   "cell_type": "markdown",
   "metadata": {},
   "source": [
    "## It takes several minutes to get the best result:\n",
    "threshold = 0.99\n",
    "false positive rate = 0.48\n",
    "true positive rate = 0.87"
   ]
  },
  {
   "cell_type": "code",
   "execution_count": 15,
   "metadata": {},
   "outputs": [],
   "source": [
    "from sklearn import metrics\n",
    "from matplotlib import pyplot as plt\n",
    "threshold=bestThreshold\n",
    "formula=\"y~\"+\"+\".join(nameList)\n",
    "Ytrain,Xtrain=ps.dmatrices(formula,dftrain)\n",
    "Ytest,Xtest=ps.dmatrices(formula,dftest)\n",
    "Ytrain=np.reshape(Ytrain, (Ytrain.shape[0],)) \n",
    "Ytest=np.reshape(Ytest,(Ytest.shape[0],))\n",
    "clf = LogisticRegression().fit(Xtrain,Ytrain)\n",
    "Ypred_prob=clf.predict_proba(Xtest)\n",
    "Ypred=pd.Series(Ypred_prob[:,0]<threshold)\n",
    "Ytest=pd.Series(Ytest)\n",
    "\n",
    "ActualNeg=sum(Ytest==0)\n",
    "ActualPos=sum(Ytest==1)\n",
    "\n",
    "TN=sum((Ytest==0)&(Ypred==0))\n",
    "FP=sum((Ytest==0)&(Ypred==1))\n",
    "TP=sum((Ytest==1)&(Ypred==1))\n",
    "FN=sum((Ytest==1)&(Ypred==0))\n",
    "\n",
    "d=pd.DataFrame(np.matrix([[TN,FP],[FN,TP]]))\n",
    "print(\"confusion matrix\")\n",
    "print(d)\n",
    "FPR=FP/(FP+TN)\n",
    "TPR=TP/(TP+FN)\n",
    "print(\"\\n\")\n",
    "\n",
    "print(\"false positive rate = {:5.3f}\".format(FPR))\n",
    "print(\"true positive rate = {:5.3f}\".format(TPR))\n",
    "print(TP)\n",
    "fpr, tpr, thresholds = metrics.roc_curve(list(Ytest), list(Ypred_prob[:,1]))\n",
    "lineStart,lineEnd=0,1\n",
    "\n",
    "plt.plot(fpr,tpr)\n",
    "plt.title('ROC Curve (LR)')\n",
    "plt.xlabel('False Positive Rate')\n",
    "plt.ylabel('True Positive Rate')\n",
    "plt.plot([lineStart, lineEnd], [lineStart, lineEnd], 'k-', color = 'r')\n",
    "plt.xlim(lineStart, lineEnd)\n",
    "plt.ylim(lineStart, lineEnd)\n",
    "fig=plt.gcf()\n",
    "fig.savefig('./auc1.eps')\n",
    "plt.show()\n"
   ]
  },
  {
   "cell_type": "code",
   "execution_count": 16,
   "metadata": {},
   "outputs": [
    {
     "ename": "NameError",
     "evalue": "name 'Ytest' is not defined",
     "output_type": "error",
     "traceback": [
      "\u001b[1;31m---------------------------------------------------------------------------\u001b[0m",
      "\u001b[1;31mNameError\u001b[0m                                 Traceback (most recent call last)",
      "\u001b[1;32m<ipython-input-16-4fb0fa5406d0>\u001b[0m in \u001b[0;36m<module>\u001b[1;34m\u001b[0m\n\u001b[0;32m      1\u001b[0m \u001b[1;32mfrom\u001b[0m \u001b[0msklearn\u001b[0m\u001b[1;33m.\u001b[0m\u001b[0mmetrics\u001b[0m \u001b[1;32mimport\u001b[0m \u001b[0mroc_auc_score\u001b[0m\u001b[1;33m\u001b[0m\u001b[1;33m\u001b[0m\u001b[0m\n\u001b[0;32m      2\u001b[0m \u001b[1;33m\u001b[0m\u001b[0m\n\u001b[1;32m----> 3\u001b[1;33m \u001b[0mroc_auc_score\u001b[0m\u001b[1;33m(\u001b[0m\u001b[0mYtest\u001b[0m\u001b[1;33m,\u001b[0m\u001b[0mYpred_prob\u001b[0m\u001b[1;33m[\u001b[0m\u001b[1;33m:\u001b[0m\u001b[1;33m,\u001b[0m\u001b[1;36m1\u001b[0m\u001b[1;33m]\u001b[0m\u001b[1;33m)\u001b[0m\u001b[1;33m\u001b[0m\u001b[1;33m\u001b[0m\u001b[0m\n\u001b[0m",
      "\u001b[1;31mNameError\u001b[0m: name 'Ytest' is not defined"
     ]
    }
   ],
   "source": [
    "from sklearn.metrics import roc_auc_score\n",
    "\n",
    "roc_auc_score(Ytest,Ypred_prob[:,1])"
   ]
  },
  {
   "cell_type": "markdown",
   "metadata": {},
   "source": [
    "## Decision Tree"
   ]
  },
  {
   "cell_type": "code",
   "execution_count": null,
   "metadata": {},
   "outputs": [],
   "source": [
    "from sklearn import tree\n",
    "clf = tree.DecisionTreeClassifier(min_samples_split=25,min_samples_leaf=25)\n",
    "clf = clf.fit(Xtrain,Ytrain)\n",
    "\n",
    "ptrain=clf.predict_proba(Xtrain)[:,1]\n",
    "ptest=clf.predict_proba(Xtest)[:,1]\n",
    "Ypred_prob=clf.predict_proba(Xtest)\n",
    "Ypred=pd.Series(Ypred_prob[:,0]<threshold)\n",
    "\n",
    "fpr1, tpr1, thresholds = metrics.roc_curve(list(Ytrain), list(ptrain))\n",
    "fpr2, tpr2, thresholds = metrics.roc_curve(list(Ytest), list(ptest))\n",
    "\n",
    "lineStart,lineEnd=0,1\n",
    "plt.plot(fpr1,tpr1,color=\"b\")\n",
    "plt.plot(fpr2,tpr2,color=\"g\")\n",
    "plt.title('ROC Curves')\n",
    "plt.xlabel('False Positive Rate')\n",
    "plt.ylabel('True Positive Rate')\n",
    "plt.plot([lineStart, lineEnd], [lineStart, lineEnd], 'k-', color = 'r')\n",
    "plt.xlim(lineStart, lineEnd)\n",
    "plt.ylim(lineStart, lineEnd)\n",
    "fig=plt.gcf()\n",
    "fig.savefig('./auc2.eps')\n",
    "plt.show()\n",
    "\n"
   ]
  },
  {
   "cell_type": "code",
   "execution_count": null,
   "metadata": {},
   "outputs": [],
   "source": [
    "roc_auc_score(Ytest,Ypred_prob[:,1])"
   ]
  },
  {
   "cell_type": "code",
   "execution_count": null,
   "metadata": {},
   "outputs": [],
   "source": [
    "from sklearn.model_selection import KFold\n",
    "\n",
    "k_fold = KFold(n_splits=10, shuffle=True) #10-fold\n",
    "X=data[nameList].values # features\n",
    "C=data[\"y\"].values # labels\n",
    "clf_score=[]\n",
    "for k, (train, test) in enumerate(k_fold.split(data.copy())):\n",
    "    clf_pred=clf.fit(X[train],C[train]).predict(X[test])\n",
    "    clf_score.append((clf_pred == C[test]).sum() / float(test.size))\n",
    "print(\"Decision Tree\",clf_score)"
   ]
  },
  {
   "cell_type": "markdown",
   "metadata": {},
   "source": [
    "## The ROC curve of the test data (green) shows that this method is not so good.  "
   ]
  },
  {
   "cell_type": "markdown",
   "metadata": {},
   "source": [
    "## Ridge Regression"
   ]
  },
  {
   "cell_type": "code",
   "execution_count": null,
   "metadata": {},
   "outputs": [],
   "source": [
    "from sklearn import linear_model\n",
    "N=df.shape[0]\n",
    "perm=np.random.permutation(range(N))\n",
    "Itrain1=perm[0:int(N/3)]\n",
    "Itrain2=perm[int(N/3):int(2*N/3)]\n",
    "Itest=perm[int(2*N/3):N]\n",
    "Xtrain1=df.loc[Itrain1,PreVar].values\n",
    "Ytrain1=df['FORCLOSED'].loc[Itrain1].values\n",
    "Xtrain2=df.loc[Itrain2,PreVar].values\n",
    "Ytrain2=df['FORCLOSED'].loc[Itrain2].values\n",
    "Xtest=df.loc[Itest,PreVar].values\n",
    "Ytest=df['FORCLOSED'].loc[Itest].values\n",
    "\n",
    "MAD=[]\n",
    "alpha_range=np.linspace(1.,200.,100)\n",
    "for a in alpha_range:\n",
    "    reg = linear_model.Ridge(alpha=a)\n",
    "    reg.fit(Xtrain1,Ytrain1)\n",
    "    Ypred2=reg.predict(Xtrain2)\n",
    "    mad=sum(abs(Ypred2-Ytrain2))/len(Ypred2)\n",
    "    MAD.append(mad)\n",
    "\n",
    "%matplotlib inline\n",
    "import matplotlib.pyplot as plt\n",
    "\n",
    "plt.scatter(alpha_range,MAD,s=2)\n",
    "plt.title('MAD vs. alpha')\n",
    "plt.xlabel('alpha')\n",
    "plt.ylabel('MAD')\n",
    "plt.show()\n",
    "\n",
    "J=pd.Series(range(len(MAD)))[MAD==min(MAD)]\n",
    "alpha_range[J][0]\n",
    "\n",
    "reg3 = linear_model.Ridge(alpha=100)\n",
    "reg3.fit(Xtrain2,Ytrain2)\n",
    "Ypred=reg3.predict(Xtrain2)\n",
    "\n",
    "sum(abs(Ypred-Ytrain2))/len(Ypred)"
   ]
  },
  {
   "cell_type": "markdown",
   "metadata": {},
   "source": [
    "# Lasso Regression"
   ]
  },
  {
   "cell_type": "code",
   "execution_count": 17,
   "metadata": {},
   "outputs": [
    {
     "data": {
      "text/plain": [
       "['ORIGRATE',\n",
       " 'ORIGUPB',\n",
       " 'ORIGTERM',\n",
       " 'OLTV',\n",
       " 'LOANAGE',\n",
       " 'NUMBO',\n",
       " 'DTI',\n",
       " 'NO_UNITS',\n",
       " 'DLQSTATUS',\n",
       " 'ACTPER_MO',\n",
       " 'TIMGAP1',\n",
       " 'Bank Of America, N.A.',\n",
       " 'Bishops Gate Residential Mortgage Trust',\n",
       " 'Citimortgage, Inc.',\n",
       " 'Downey Savings And Loan Association, F.A.',\n",
       " 'First Tennessee Bank National Association',\n",
       " 'Flagstar Bank, Fsb',\n",
       " 'Gmac Mortgage, Llc',\n",
       " 'Harwood Street Funding I, Llc',\n",
       " 'Jp Morgan Chase Bank, Na',\n",
       " 'Jpmorgan Chase Bank, Na',\n",
       " 'Jpmorgan Chase Bank, National Association',\n",
       " 'Netbank Funding Services',\n",
       " 'Old Kent Mortgage Company',\n",
       " 'Other',\n",
       " 'Pnc Bank, N.A.',\n",
       " 'Rbc Mortgage Company',\n",
       " 'Regions Bank',\n",
       " 'Suntrust Mortgage Inc.',\n",
       " 'The Huntington National Bank',\n",
       " 'Usaa Federal Savings Bank',\n",
       " 'Washtenaw Mortgage Company',\n",
       " 'Wells Fargo Bank, N.A.',\n",
       " 'C',\n",
       " 'R',\n",
       " 'Y',\n",
       " 'P',\n",
       " 'R',\n",
       " 'U',\n",
       " 'CP',\n",
       " 'MH',\n",
       " 'PU',\n",
       " 'SF',\n",
       " '2',\n",
       " '3',\n",
       " '4',\n",
       " 'P',\n",
       " 'S',\n",
       " 'AL',\n",
       " 'AR',\n",
       " 'AZ',\n",
       " 'CA',\n",
       " 'CO',\n",
       " 'CT',\n",
       " 'DC',\n",
       " 'DE',\n",
       " 'FL',\n",
       " 'GA',\n",
       " 'HI',\n",
       " 'IA',\n",
       " 'ID',\n",
       " 'IL',\n",
       " 'IN',\n",
       " 'KS',\n",
       " 'KY',\n",
       " 'LA',\n",
       " 'MA',\n",
       " 'MD',\n",
       " 'ME',\n",
       " 'MI',\n",
       " 'MN',\n",
       " 'MO',\n",
       " 'MS',\n",
       " 'MT',\n",
       " 'NC',\n",
       " 'ND',\n",
       " 'NE',\n",
       " 'NH',\n",
       " 'NJ',\n",
       " 'NM',\n",
       " 'NV',\n",
       " 'NY',\n",
       " 'OH',\n",
       " 'OK',\n",
       " 'OR',\n",
       " 'PA',\n",
       " 'PR',\n",
       " 'RI',\n",
       " 'SC',\n",
       " 'SD',\n",
       " 'TN',\n",
       " 'TX',\n",
       " 'UT',\n",
       " 'VA',\n",
       " 'VI',\n",
       " 'VT',\n",
       " 'WA',\n",
       " 'WI',\n",
       " 'WV',\n",
       " 'WY',\n",
       " 'Y',\n",
       " '1']"
      ]
     },
     "execution_count": 17,
     "metadata": {},
     "output_type": "execute_result"
    }
   ],
   "source": [
    "PreVar"
   ]
  },
  {
   "cell_type": "code",
   "execution_count": 27,
   "metadata": {},
   "outputs": [
    {
     "name": "stdout",
     "output_type": "stream",
     "text": [
      "0.01130627445852089\n"
     ]
    }
   ],
   "source": [
    "from sklearn import model_selection\n",
    "from sklearn.linear_model import Lasso,LassoCV\n",
    "from sklearn.metrics import mean_squared_error\n",
    "def lasso(data,PreVar):\n",
    "    x_train,x_test,y_train,y_test=model_selection.train_test_split(data[PreVar],data[\"FORCLOSED\"],\n",
    "                                                               test_size=0.2,random_state=1234)\n",
    "    Lambdas=np.logspace(-5,2,200)\n",
    " \n",
    "    lasso_cv=LassoCV(alphas=Lambdas,normalize=True,cv=10,max_iter=10000)\n",
    "    lasso_cv.fit(x_train,y_train)\n",
    "\n",
    "  \n",
    "    lasso=Lasso(alpha=lasso_cv.alpha_,normalize=True,max_iter=10000)\n",
    "    lasso.fit(x_train,y_train)\n",
    "\n",
    "    lasso_pred=lasso.predict(x_test)\n",
    "    MSE=mean_squared_error(y_test,lasso_pred)\n",
    "    print(MSE)\n",
    "    \n",
    "    return(pd.Series(index=['Intercept']+x_train.columns.tolist(),\n",
    "                data=[lasso.intercept_]+lasso.coef_.tolist()))\n",
    "    \n",
    "intercept=lasso(df,PreVar)"
   ]
  },
  {
   "cell_type": "code",
   "execution_count": 78,
   "metadata": {},
   "outputs": [
    {
     "data": {
      "text/html": [
       "<div>\n",
       "<style scoped>\n",
       "    .dataframe tbody tr th:only-of-type {\n",
       "        vertical-align: middle;\n",
       "    }\n",
       "\n",
       "    .dataframe tbody tr th {\n",
       "        vertical-align: top;\n",
       "    }\n",
       "\n",
       "    .dataframe thead th {\n",
       "        text-align: right;\n",
       "    }\n",
       "</style>\n",
       "<table border=\"1\" class=\"dataframe\">\n",
       "  <thead>\n",
       "    <tr style=\"text-align: right;\">\n",
       "      <th></th>\n",
       "      <th>variable</th>\n",
       "      <th>coef</th>\n",
       "    </tr>\n",
       "  </thead>\n",
       "  <tbody>\n",
       "    <tr>\n",
       "      <th>1</th>\n",
       "      <td>ORIGRATE</td>\n",
       "      <td>0.005033</td>\n",
       "    </tr>\n",
       "    <tr>\n",
       "      <th>4</th>\n",
       "      <td>OLTV</td>\n",
       "      <td>0.000054</td>\n",
       "    </tr>\n",
       "    <tr>\n",
       "      <th>78</th>\n",
       "      <td>MH</td>\n",
       "      <td>0.011868</td>\n",
       "    </tr>\n",
       "  </tbody>\n",
       "</table>\n",
       "</div>"
      ],
      "text/plain": [
       "    variable      coef\n",
       "1   ORIGRATE  0.005033\n",
       "4       OLTV  0.000054\n",
       "78        MH  0.011868"
      ]
     },
     "execution_count": 78,
     "metadata": {},
     "output_type": "execute_result"
    }
   ],
   "source": [
    "a1 = pd.DataFrame(data=intercept.index, columns=['variable'])\n",
    "a2 = pd.DataFrame(data=intercept.values, columns=['coef'])\n",
    "a = pd.merge(a1, a2, left_index=True, right_index=True)\n",
    "a[a.loc[:,\"coef\"]>1e-10]"
   ]
  },
  {
   "cell_type": "code",
   "execution_count": 94,
   "metadata": {},
   "outputs": [
    {
     "data": {
      "image/png": "[encoded data removed]",
      "text/plain": [
       "<Figure size 1296x864 with 1 Axes>"
      ]
     },
     "metadata": {
      "needs_background": "light"
     },
     "output_type": "display_data"
    }
   ],
   "source": [
    "label_dis = a.variable.value_counts()\n",
    "ax = label_dis.plot(title='label distribution',kind='bar',figsize=(18,12))\n",
    "fig = ax.get_figure()\n",
    "fig.savefig('label_distribution.eps')"
   ]
  },
  {
   "cell_type": "code",
   "execution_count": null,
   "metadata": {},
   "outputs": [],
   "source": []
  }
 ],
 "metadata": {
  "kernelspec": {
   "display_name": "Python 3",
   "language": "python",
   "name": "python3"
  },
  "language_info": {
   "codemirror_mode": {
    "name": "ipython",
    "version": 3
   },
   "file_extension": ".py",
   "mimetype": "text/x-python",
   "name": "python",
   "nbconvert_exporter": "python",
   "pygments_lexer": "ipython3",
   "version": "3.8.3"
  }
 },
 "nbformat": 4,
 "nbformat_minor": 4
}
